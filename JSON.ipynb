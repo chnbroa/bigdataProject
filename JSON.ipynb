{
 "cells": [
  {
   "cell_type": "code",
   "execution_count": 14,
   "id": "cfcd2c32",
   "metadata": {},
   "outputs": [],
   "source": [
    "import json"
   ]
  },
  {
   "cell_type": "code",
   "execution_count": 15,
   "id": "53b8d2df",
   "metadata": {
    "scrolled": true
   },
   "outputs": [],
   "source": [
    "#json 경로 설정.\n",
    "with open(\"./data/005.json\", \"r\", encoding=\"utf8\") as f:\n",
    "    contents = f.read() # string 타입\n",
    "    json_data = json.loads(contents)\n",
    "#print(json_data['shapes'][0]['points'])"
   ]
  },
  {
   "cell_type": "code",
   "execution_count": 16,
   "id": "83eb581e",
   "metadata": {
    "scrolled": true
   },
   "outputs": [],
   "source": [
    "import numpy as np\n",
    "import argparse\n",
    "import cv2\n",
    "import matplotlib.pyplot as plt\n",
    "\n",
    "#검은색\n",
    "black_canvas = np.zeros(( json_data['imageWidth'] ,json_data['imageHeight'], 3), dtype=\"uint8\")\n",
    "\n",
    "#json 좌표값\n",
    "polygon = np.array(json_data['shapes'][0]['points'],dtype=np.int32)"
   ]
  },
  {
   "cell_type": "code",
   "execution_count": 17,
   "id": "e0778fa8",
   "metadata": {
    "scrolled": false
   },
   "outputs": [],
   "source": [
    "cv2.fillPoly(black_canvas,[polygon],color =(255,255,255))\n",
    "#black_canvas = cv2.resize(black_canvas, (300, 300))\n",
    "cv2.imshow('image',black_canvas)\n",
    "\n",
    "#저장 경로 설정\n",
    "cv2.imwrite('./testtarget/target05.jpg',black_canvas)\n",
    "cv2.waitKey(0)\n",
    "cv2.destroyAllWindows()"
   ]
  },
  {
   "cell_type": "code",
   "execution_count": null,
   "id": "016c43e6",
   "metadata": {},
   "outputs": [],
   "source": []
  },
  {
   "cell_type": "code",
   "execution_count": null,
   "id": "3316f70e",
   "metadata": {},
   "outputs": [],
   "source": []
  },
  {
   "cell_type": "code",
   "execution_count": null,
   "id": "c32fdaa9",
   "metadata": {},
   "outputs": [],
   "source": []
  }
 ],
 "metadata": {
  "kernelspec": {
   "display_name": "Python 3 (ipykernel)",
   "language": "python",
   "name": "python3"
  },
  "language_info": {
   "codemirror_mode": {
    "name": "ipython",
    "version": 3
   },
   "file_extension": ".py",
   "mimetype": "text/x-python",
   "name": "python",
   "nbconvert_exporter": "python",
   "pygments_lexer": "ipython3",
   "version": "3.8.13"
  }
 },
 "nbformat": 4,
 "nbformat_minor": 5
}
