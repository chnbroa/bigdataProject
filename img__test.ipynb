{
 "cells": [
  {
   "cell_type": "code",
   "execution_count": 1,
   "id": "60e206e7",
   "metadata": {},
   "outputs": [],
   "source": [
    "import numpy as np\n",
    "import pandas as pd\n",
    "import cv2\n",
    "import os"
   ]
  },
  {
   "cell_type": "code",
   "execution_count": 2,
   "id": "d1c6a5d0",
   "metadata": {},
   "outputs": [
    {
     "name": "stdout",
     "output_type": "stream",
     "text": [
      "(2763, 1853, 3)\n"
     ]
    }
   ],
   "source": [
    "img = cv2.imread('./img/map.jpg')\n",
    "print(img.shape)\n",
    "img = cv2.resize(img, (800, 1200))\n",
    "\n",
    "hsv_img = cv2.cvtColor(img, cv2.COLOR_BGR2HSV)\n",
    "bound_lower = np.array([-10, 10, 10])\n",
    "bound_upper = np.array([10, 255, 255])\n",
    "\n",
    "#색상 범위 정하기 \n",
    "mask_red = cv2.inRange(hsv_img, bound_lower, bound_upper)\n",
    "\n",
    "#노이즈 제거  (MORPH_CLOSE 구멍을 메우는데 사용)\n",
    "#kernel = np.ones((5,5),np.uint8)\n",
    "#mask_red = cv2.morphologyEx(mask_red, cv2.MORPH_CLOSE, kernel)\n",
    "#mask_red = cv2.morphologyEx(mask_red, cv2.MORPH_OPEN, kernel)\n",
    "\n",
    "#bitwise_and 비트연산\n",
    "seg_img = cv2.bitwise_and(img, img, mask=mask_red)\n",
    "\n",
    "# 선 그리기 \n",
    "#contours, hier = cv2.findContours(mask_red.copy(), cv2.RETR_TREE, cv2.CHAIN_APPROX_SIMPLE)\n",
    "#output = cv2.drawContours(seg_img, contours, -1, (0, 0, 255), 3)\n",
    "\n",
    "cv2.imshow(\"Result\", seg_img)\n",
    "cv2.waitKey(0) \n",
    "\n",
    "# 모든창 닫기\n",
    "cv2.destroyAllWindows()\n",
    "\n",
    "\n",
    "#참고\n",
    "#https://www.delftstack.com/ko/howto/python/color-detection-opencv/\n",
    "#https://m.blog.naver.com/PostView.naver?isHttpsRedirect=true&blogId=samsjang&logNo=220504633218\n",
    "#https://velog.io/@nayeon_p00/OpenCV-Python-HSV-%EC%83%89%EA%B3%B5%EA%B0%84%EC%97%90%EC%84%9C-%EC%9D%B4%EB%AF%B8%EC%A7%80%EC%9D%98-%ED%8A%B9%EC%A0%95%EC%83%89-%EC%B6%94%EC%B6%9C%ED%95%98%EA%B8%B0"
   ]
  },
  {
   "cell_type": "code",
   "execution_count": null,
   "id": "1c94a5a1",
   "metadata": {},
   "outputs": [],
   "source": []
  }
 ],
 "metadata": {
  "kernelspec": {
   "display_name": "Python 3 (ipykernel)",
   "language": "python",
   "name": "python3"
  },
  "language_info": {
   "codemirror_mode": {
    "name": "ipython",
    "version": 3
   },
   "file_extension": ".py",
   "mimetype": "text/x-python",
   "name": "python",
   "nbconvert_exporter": "python",
   "pygments_lexer": "ipython3",
   "version": "3.7.13"
  }
 },
 "nbformat": 4,
 "nbformat_minor": 5
}
