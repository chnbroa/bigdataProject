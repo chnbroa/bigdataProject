{
 "cells": [
  {
   "cell_type": "code",
   "execution_count": null,
   "id": "670df440",
   "metadata": {},
   "outputs": [],
   "source": [
    "import numpy as np\n",
    "import pandas as pd\n",
    "import seaborn as sns\n",
    "import matplotlib.pyplot as plt\n",
    "import os\n",
    "import cv2\n",
    "import tensorflow as tf\n",
    "from keras.models import Sequential\n",
    "from keras.layers import Dropout, Dense\n",
    "from keras.layers import Flatten, MaxPooling2D, Conv2D\n",
    "from tensorflow.keras.callbacks import ModelCheckpoint , EarlyStopping\n",
    "from sklearn.model_selection import train_test_split"
   ]
  },
  {
   "cell_type": "code",
   "execution_count": null,
   "id": "e534ee47",
   "metadata": {},
   "outputs": [],
   "source": [
    "file_dir = \"C:/data/\"\n",
    "image_size = (224, 224)\n",
    "cartegories  = os.listdir(file_dir)\n",
    "num_classes = len(cartegories)\n",
    "X=[]\n",
    "Y=[]\n",
    "\n",
    "print(cartegories)\n",
    "# 이미지 전처리\n",
    "for i, categorie in  enumerate(cartegories):\n",
    "    label = [0 for i in range(num_classes)]\n",
    "    label[i] = 1\n",
    "    print(categorie)\n",
    "    img_dir =  file_dir+categorie +\"/\"\n",
    "    img_list = os.listdir(img_dir)\n",
    "    for img_list_dir in img_list:\n",
    "        img_path = img_dir+img_list_dir\n",
    "        img = cv2.imdecode(np.fromfile(img_path, dtype=np.uint8), cv2.IMREAD_UNCHANGED)\n",
    "        img = cv2.resize(img, image_size)\n",
    "        X.append(img / 255)\n",
    "        Y.append(label)\n",
    "        print(img_path)\n",
    "X=np.array(X)\n",
    "Y=np.array(Y)\n",
    "\n",
    "print(X.shape)\n",
    "print(X.shape[1:])"
   ]
  },
  {
   "cell_type": "code",
   "execution_count": null,
   "id": "b03e9dda",
   "metadata": {},
   "outputs": [],
   "source": [
    "train_input, test_input, train_target, test_target = train_test_split(X,Y)\n",
    "\n",
    "print( train_input.shape, train_target.shape)\n",
    "print( test_input.shape, test_target.shape)"
   ]
  },
  {
   "cell_type": "code",
   "execution_count": null,
   "id": "b4460c09",
   "metadata": {},
   "outputs": [],
   "source": [
    "model = Sequential()\n",
    "model.add(Conv2D(32, (3, 3), padding='same', activation='relu',\n",
    "                 input_shape=train_input.shape[1:]))\n",
    "model.add(MaxPooling2D(pool_size=(2, 2)))\n",
    "model.add(Dropout(0.25))\n",
    "model.add(Conv2D(64, (3, 3), padding='same', activation='relu'))\n",
    "model.add(MaxPooling2D(pool_size=(2, 2)))\n",
    "model.add(Dropout(0.25))\n",
    "model.add(Conv2D(128, (3, 3), activation='relu'))\n",
    "model.add(MaxPooling2D(pool_size=(2, 2)))\n",
    "model.add(Dropout(0.25))\n",
    "\n",
    "# Classifier\n",
    "model.add(Flatten())\n",
    "model.add(Dense(128, activation='relu'))\n",
    "model.add(Dense(64, activation='relu'))\n",
    "model.add(Dense(9, activation='softmax'))\n",
    "\n",
    "\n",
    "model.summary()"
   ]
  },
  {
   "cell_type": "code",
   "execution_count": null,
   "id": "f448ba0d",
   "metadata": {},
   "outputs": [],
   "source": [
    "MODEL_DIR = './model/'\n",
    "if not os.path.exists(MODEL_DIR):\n",
    "    os.mkdir(MODEL_DIR)\n",
    "modelpath= MODEL_DIR +\".epoch{epoch:02d}-loss{val_loss:.4f}.hdf5\"\n",
    "checkpointer = ModelCheckpoint(filepath=modelpath, monitor='val_loss', verbose=1,\n",
    "save_best_only=True)\n",
    "\n",
    "early_stopping_callback = EarlyStopping(monitor='val_loss', patience=10)"
   ]
  },
  {
   "cell_type": "code",
   "execution_count": null,
   "id": "28a3c95d",
   "metadata": {},
   "outputs": [],
   "source": [
    "model.compile(loss='categorical_crossentropy',optimizer='Adam', metrics=['accuracy'])"
   ]
  },
  {
   "cell_type": "code",
   "execution_count": null,
   "id": "f9930047",
   "metadata": {},
   "outputs": [],
   "source": [
    "history = model.fit(train_input, train_target, validation_data=(test_input, test_target), epochs=200, batch_size=16,\n",
    "verbose=1, callbacks=[early_stopping_callback,checkpointer])\n",
    "print(\"\\n Test Accuracy: %.4f\" % (model.evaluate(test_input, test_target)[1])) \n"
   ]
  },
  {
   "cell_type": "code",
   "execution_count": null,
   "id": "4e1264cd",
   "metadata": {},
   "outputs": [],
   "source": [
    "#그래프 그려보기\n",
    "y_vloss=history.history['val_loss']\n",
    "y_loss =history.history[\"loss\"]\n",
    "y_acc  =history.history[\"accuracy\"]\n",
    "\n",
    "x_len= np.arange(len(y_loss))\n",
    "plt.plot(x_len,y_vloss,marker='.', c=\"r\",label=\"Testset_loss\")\n",
    "plt.plot(x_len, y_loss,marker='.', c=\"b\", label=\"Tarinset_loss\")\n",
    "plt.legend(loc='upper right')\n",
    "plt.grid()\n",
    "plt.xlabel('epoch')\n",
    "plt.ylabel('loss')\n",
    "plt.show()"
   ]
  }
 ],
 "metadata": {
  "kernelspec": {
   "display_name": "Python 3 (ipykernel)",
   "language": "python",
   "name": "python3"
  },
  "language_info": {
   "codemirror_mode": {
    "name": "ipython",
    "version": 3
   },
   "file_extension": ".py",
   "mimetype": "text/x-python",
   "name": "python",
   "nbconvert_exporter": "python",
   "pygments_lexer": "ipython3",
   "version": "3.7.11"
  }
 },
 "nbformat": 4,
 "nbformat_minor": 5
}
