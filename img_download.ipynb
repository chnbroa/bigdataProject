{
 "cells": [
  {
   "cell_type": "code",
   "execution_count": 13,
   "id": "05a56c49",
   "metadata": {},
   "outputs": [],
   "source": [
    "import pandas as pd\n",
    "from pandas import Series, DataFrame\n",
    "import numpy as np\n",
    "import os\n",
    "import urllib.request\n",
    "import requests\n",
    "\n",
    "\n",
    "\n",
    "site = \"https://www.bigdatahub.go.kr/images/disease/\"\n",
    "data_name = [\"검은별무늬병\", \"그을음병\", \"노균병\",\"덩굴마름병\",\"모자이크병\",\"세균성모무늬병\",\"탄저병\",\"흰가루병\",\"정상\"]\n",
    "data_test=data_name[7]\n",
    "print(f'{data_test}')\n",
    "data = pd.read_csv('data\\{}.csv'.format(data_test))\n",
    "#!type data\\노균병.csv\n",
    "#data.describe()\n",
    "#data.info()\n",
    "\n",
    "file_name = data[\"파일명(File_Name)\"]\n",
    "Act_Diag = Series([],dtype=\"string\")\n",
    "Act_Diag = data[\"실제판독명(Act_Diag)\"]\n",
    "Act_Diag= Act_Diag.str.split('+')\n",
    "file_list= list(zip(file_name,Act_Diag))\n",
    "\n",
    "for data_i in data_name:\n",
    "    print(f'{data_i}')\n",
    "    data = pd.read_csv('data\\{}.csv'.format(data_i))\n",
    "    file_name = data[\"파일명(File_Name)\"]\n",
    "    Act_Diag = Series([],dtype=\"string\")\n",
    "    Act_Diag = data[\"실제판독명(Act_Diag)\"]\n",
    "    Act_Diag= Act_Diag.str.split('+')\n",
    "    file_list= list(zip(file_name,Act_Diag))\n",
    "    PATH =\"C:/data/{}\".format(data_i) #저장 경로\n",
    "    print(PATH)\n",
    "    if not os.path.isdir(PATH): #폴더가 존재하지 않는다면 폴더 생성\n",
    "        os.makedirs(PATH)\n",
    "    for i, j in file_list:\n",
    "        try:\n",
    "            if len(j)== 1:\n",
    "                print(i, j)\n",
    "                url = site+i\n",
    "                urllib.request.urlretrieve(url,'{}/{}'.format(PATH,i))\n",
    "                print('download successful')\n",
    "        except:\n",
    "            print(\"오류발생!!\")\n",
    "    print('>>>>>>>>>>>>>>>>finish<<<<<<<<<<<<<<<<<')"
   ]
  }
 ],
 "metadata": {
  "kernelspec": {
   "display_name": "Python 3 (ipykernel)",
   "language": "python",
   "name": "python3"
  },
  "language_info": {
   "codemirror_mode": {
    "name": "ipython",
    "version": 3
   },
   "file_extension": ".py",
   "mimetype": "text/x-python",
   "name": "python",
   "nbconvert_exporter": "python",
   "pygments_lexer": "ipython3",
   "version": "3.7.11"
  }
 },
 "nbformat": 4,
 "nbformat_minor": 5
}
