{
 "cells": [
  {
   "cell_type": "code",
   "execution_count": 72,
   "id": "98c39a14",
   "metadata": {},
   "outputs": [],
   "source": [
    "import numpy as np\n",
    "import pandas as pd\n",
    "import requests\n",
    "from bs4 import BeautifulSoup\n",
    "from selenium import webdriver"
   ]
  },
  {
   "cell_type": "code",
   "execution_count": 75,
   "id": "d51a9f93",
   "metadata": {},
   "outputs": [
    {
     "name": "stderr",
     "output_type": "stream",
     "text": [
      "C:\\Users\\owner\\AppData\\Local\\Temp\\ipykernel_2908\\3432888610.py:5: DeprecationWarning: executable_path has been deprecated, please pass in a Service object\n",
      "  driver = webdriver.Chrome(\"C:/chromedriver.exe\", options=options)\n"
     ]
    }
   ],
   "source": [
    "url = \"https://www.mafra.go.kr/FMD-AI2/map/AI/AI_map.jsp\"\n",
    "#크롬 창 없이 실행\n",
    "options = webdriver.ChromeOptions()\n",
    "options.add_argument(\"headless\")\n",
    "#chrome driver 다운후 dir 설정\n",
    "driver = webdriver.Chrome(\"C:/chromedriver.exe\", options=options)\n",
    "\n",
    "driver.get(url)\n",
    "html = driver.page_source\n",
    "soup = BeautifulSoup(html,'html.parser')\n",
    "driver.quit()\n",
    "\n",
    "#참고\n",
    "#https://velog.io/@changhtun1/Python-%EB%8F%99%EC%A0%81-%EC%9B%B9-%ED%81%AC%EB%A1%A4%EB%A7%81"
   ]
  },
  {
   "cell_type": "code",
   "execution_count": 76,
   "id": "f96e9dca",
   "metadata": {},
   "outputs": [
    {
     "data": {
      "text/html": [
       "<div>\n",
       "<style scoped>\n",
       "    .dataframe tbody tr th:only-of-type {\n",
       "        vertical-align: middle;\n",
       "    }\n",
       "\n",
       "    .dataframe tbody tr th {\n",
       "        vertical-align: top;\n",
       "    }\n",
       "\n",
       "    .dataframe thead th {\n",
       "        text-align: right;\n",
       "    }\n",
       "</style>\n",
       "<table border=\"1\" class=\"dataframe\">\n",
       "  <thead>\n",
       "    <tr style=\"text-align: right;\">\n",
       "      <th></th>\n",
       "      <th>cnt</th>\n",
       "      <th>city</th>\n",
       "      <th>date</th>\n",
       "    </tr>\n",
       "  </thead>\n",
       "  <tbody>\n",
       "    <tr>\n",
       "      <th>0</th>\n",
       "      <td>1</td>\n",
       "      <td>전라북도 정읍시 소성면</td>\n",
       "      <td>2020.11.26.</td>\n",
       "    </tr>\n",
       "    <tr>\n",
       "      <th>1</th>\n",
       "      <td>2</td>\n",
       "      <td>경상북도 상주시 공성면</td>\n",
       "      <td>2020.12.01.</td>\n",
       "    </tr>\n",
       "    <tr>\n",
       "      <th>2</th>\n",
       "      <td>3</td>\n",
       "      <td>전라남도 영암군 시종면</td>\n",
       "      <td>2020.12.04.</td>\n",
       "    </tr>\n",
       "    <tr>\n",
       "      <th>3</th>\n",
       "      <td>4</td>\n",
       "      <td>경기도 여주시 가남읍</td>\n",
       "      <td>2020.12.06.</td>\n",
       "    </tr>\n",
       "    <tr>\n",
       "      <th>4</th>\n",
       "      <td>5</td>\n",
       "      <td>충청북도 음성군 금왕읍</td>\n",
       "      <td>2020.12.07.</td>\n",
       "    </tr>\n",
       "    <tr>\n",
       "      <th>...</th>\n",
       "      <td>...</td>\n",
       "      <td>...</td>\n",
       "      <td>...</td>\n",
       "    </tr>\n",
       "    <tr>\n",
       "      <th>151</th>\n",
       "      <td>152</td>\n",
       "      <td>충청북도 진천군</td>\n",
       "      <td>2022.02.14.</td>\n",
       "    </tr>\n",
       "    <tr>\n",
       "      <th>152</th>\n",
       "      <td>153</td>\n",
       "      <td>충청남도 논산시</td>\n",
       "      <td>2022.02.19.</td>\n",
       "    </tr>\n",
       "    <tr>\n",
       "      <th>153</th>\n",
       "      <td>154</td>\n",
       "      <td>경상남도 하동군</td>\n",
       "      <td>2022.02.22.</td>\n",
       "    </tr>\n",
       "    <tr>\n",
       "      <th>154</th>\n",
       "      <td>155</td>\n",
       "      <td>전라남도 고흥군</td>\n",
       "      <td>2022.03.04.</td>\n",
       "    </tr>\n",
       "    <tr>\n",
       "      <th>155</th>\n",
       "      <td>156</td>\n",
       "      <td>경상남도 김해시</td>\n",
       "      <td>2022.04.08.</td>\n",
       "    </tr>\n",
       "  </tbody>\n",
       "</table>\n",
       "<p>156 rows × 3 columns</p>\n",
       "</div>"
      ],
      "text/plain": [
       "     cnt          city         date\n",
       "0      1  전라북도 정읍시 소성면  2020.11.26.\n",
       "1      2  경상북도 상주시 공성면  2020.12.01.\n",
       "2      3  전라남도 영암군 시종면  2020.12.04.\n",
       "3      4   경기도 여주시 가남읍  2020.12.06.\n",
       "4      5  충청북도 음성군 금왕읍  2020.12.07.\n",
       "..   ...           ...          ...\n",
       "151  152      충청북도 진천군  2022.02.14.\n",
       "152  153      충청남도 논산시  2022.02.19.\n",
       "153  154      경상남도 하동군  2022.02.22.\n",
       "154  155      전라남도 고흥군  2022.03.04.\n",
       "155  156      경상남도 김해시  2022.04.08.\n",
       "\n",
       "[156 rows x 3 columns]"
      ]
     },
     "execution_count": 76,
     "metadata": {},
     "output_type": "execute_result"
    }
   ],
   "source": [
    "test = soup.find_all('td')\n",
    "data = []\n",
    "for i in test:\n",
    "    data.append(i.get_text())\n",
    "ndata = np.array(data)\n",
    "ndata = ndata.reshape(-1,3)\n",
    "df = pd.DataFrame(ndata, columns=['cnt', 'city', 'date'])\n",
    "df"
   ]
  },
  {
   "cell_type": "code",
   "execution_count": null,
   "id": "b62e36e9",
   "metadata": {},
   "outputs": [],
   "source": []
  },
  {
   "cell_type": "code",
   "execution_count": null,
   "id": "c3ffb796",
   "metadata": {},
   "outputs": [],
   "source": []
  },
  {
   "cell_type": "code",
   "execution_count": null,
   "id": "128551cc",
   "metadata": {},
   "outputs": [],
   "source": []
  },
  {
   "cell_type": "code",
   "execution_count": null,
   "id": "284fd6d5",
   "metadata": {},
   "outputs": [],
   "source": []
  },
  {
   "cell_type": "code",
   "execution_count": null,
   "id": "e2a1c588",
   "metadata": {},
   "outputs": [],
   "source": []
  }
 ],
 "metadata": {
  "kernelspec": {
   "display_name": "Python 3 (ipykernel)",
   "language": "python",
   "name": "python3"
  },
  "language_info": {
   "codemirror_mode": {
    "name": "ipython",
    "version": 3
   },
   "file_extension": ".py",
   "mimetype": "text/x-python",
   "name": "python",
   "nbconvert_exporter": "python",
   "pygments_lexer": "ipython3",
   "version": "3.8.13"
  }
 },
 "nbformat": 4,
 "nbformat_minor": 5
}
